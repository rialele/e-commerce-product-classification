{
 "cells": [
  {
   "cell_type": "markdown",
   "metadata": {},
   "source": [
    "#### imports"
   ]
  },
  {
   "cell_type": "code",
   "execution_count": 8,
   "metadata": {
    "_cell_guid": "b1076dfc-b9ad-4769-8c92-a6c4dae69d19",
    "_uuid": "8f2839f25d086af736a60e9eeb907d3b93b6e0e5",
    "execution": {
     "iopub.execute_input": "2022-03-25T12:37:24.965881Z",
     "iopub.status.busy": "2022-03-25T12:37:24.965548Z",
     "iopub.status.idle": "2022-03-25T12:37:32.972013Z",
     "shell.execute_reply": "2022-03-25T12:37:32.971175Z",
     "shell.execute_reply.started": "2022-03-25T12:37:24.965848Z"
    }
   },
   "outputs": [
    {
     "name": "stdout",
     "output_type": "stream",
     "text": [
      "Requirement already satisfied: efficientnet in /opt/conda/lib/python3.7/site-packages (1.1.1)\n",
      "Requirement already satisfied: scikit-image in /opt/conda/lib/python3.7/site-packages (from efficientnet) (0.19.1)\n",
      "Requirement already satisfied: keras-applications<=1.0.8,>=1.0.7 in /opt/conda/lib/python3.7/site-packages (from efficientnet) (1.0.8)\n",
      "Requirement already satisfied: numpy>=1.9.1 in /opt/conda/lib/python3.7/site-packages (from keras-applications<=1.0.8,>=1.0.7->efficientnet) (1.20.3)\n",
      "Requirement already satisfied: h5py in /opt/conda/lib/python3.7/site-packages (from keras-applications<=1.0.8,>=1.0.7->efficientnet) (3.1.0)\n",
      "Requirement already satisfied: packaging>=20.0 in /opt/conda/lib/python3.7/site-packages (from scikit-image->efficientnet) (21.3)\n",
      "Requirement already satisfied: tifffile>=2019.7.26 in /opt/conda/lib/python3.7/site-packages (from scikit-image->efficientnet) (2021.11.2)\n",
      "Requirement already satisfied: networkx>=2.2 in /opt/conda/lib/python3.7/site-packages (from scikit-image->efficientnet) (2.6.3)\n",
      "Requirement already satisfied: imageio>=2.4.1 in /opt/conda/lib/python3.7/site-packages (from scikit-image->efficientnet) (2.9.0)\n",
      "Requirement already satisfied: scipy>=1.4.1 in /opt/conda/lib/python3.7/site-packages (from scikit-image->efficientnet) (1.7.3)\n",
      "Requirement already satisfied: PyWavelets>=1.1.1 in /opt/conda/lib/python3.7/site-packages (from scikit-image->efficientnet) (1.2.0)\n",
      "Requirement already satisfied: pillow!=7.1.0,!=7.1.1,!=8.3.0,>=6.1.0 in /opt/conda/lib/python3.7/site-packages (from scikit-image->efficientnet) (8.2.0)\n",
      "Requirement already satisfied: pyparsing!=3.0.5,>=2.0.2 in /opt/conda/lib/python3.7/site-packages (from packaging>=20.0->scikit-image->efficientnet) (3.0.6)\n",
      "Requirement already satisfied: cached-property in /opt/conda/lib/python3.7/site-packages (from h5py->keras-applications<=1.0.8,>=1.0.7->efficientnet) (1.5.2)\n",
      "\u001b[33mWARNING: Running pip as the 'root' user can result in broken permissions and conflicting behaviour with the system package manager. It is recommended to use a virtual environment instead: https://pip.pypa.io/warnings/venv\u001b[0m\n"
     ]
    }
   ],
   "source": [
    "import numpy as np # linear algebra\n",
    "import pandas as pd # data processing, CSV file I/O (e.g. pd.read_csv)\n",
    "\n",
    "import cv2\n",
    "import os\n",
    "import numpy as np\n",
    "import matplotlib.pyplot as plt\n",
    "import string as str\n",
    "from tqdm import tqdm\n",
    "import warnings\n",
    "warnings.filterwarnings('ignore')\n",
    "import matplotlib.pyplot as plt\n",
    "from sklearn.preprocessing import LabelEncoder\n",
    "from sklearn.model_selection import train_test_split\n",
    "import keras\n",
    "import tensorflow as tf\n",
    "from tensorflow.keras.models import Sequential\n",
    "from tensorflow.keras.layers import Conv2D, MaxPooling2D, Dense, Flatten, Dropout, BatchNormalization, ReLU, GlobalAvgPool2D, GlobalAveragePooling2D, Activation\n",
    "from tensorflow.keras.optimizers import Adam, SGD\n",
    "from tensorflow.keras.optimizers.schedules import ExponentialDecay\n",
    "from tensorflow.keras.callbacks import ReduceLROnPlateau, EarlyStopping, ModelCheckpoint, TensorBoard\n",
    "from tensorflow.keras.preprocessing.image import ImageDataGenerator\n",
    "from tensorflow.keras.utils import to_categorical\n",
    "from tensorflow.python.keras.preprocessing.image import ImageDataGenerator\n",
    "from tensorflow_addons.metrics import F1Score\n",
    "from tensorflow.keras.metrics import AUC\n",
    "import gc\n",
    "\n",
    "from tensorflow.keras.applications.xception import Xception \n",
    "\n",
    "from tensorflow.keras.applications.mobilenet import MobileNet\n",
    "from tensorflow.keras.applications.mobilenet_v2 import MobileNetV2\n",
    "\n",
    "from tensorflow.keras.applications.resnet import ResNet50\n",
    "from tensorflow.keras.applications import ResNet50V2\n",
    "\n",
    "!pip install -U --pre efficientnet\n",
    "import efficientnet.tfkeras as efn\n",
    "\n",
    "from tensorflow.keras.applications.inception_v3 import InceptionV3\n",
    "\n",
    "from tensorflow.keras.applications.inception_resnet_v2 import InceptionResNetV2\n"
   ]
  },
  {
   "cell_type": "code",
   "execution_count": 9,
   "metadata": {
    "execution": {
     "iopub.execute_input": "2022-03-25T12:37:32.975767Z",
     "iopub.status.busy": "2022-03-25T12:37:32.975527Z",
     "iopub.status.idle": "2022-03-25T12:37:32.980816Z",
     "shell.execute_reply": "2022-03-25T12:37:32.979955Z",
     "shell.execute_reply.started": "2022-03-25T12:37:32.975731Z"
    }
   },
   "outputs": [],
   "source": [
    "img_dim = (224, 224)\n",
    "\n",
    "n_classes = 10"
   ]
  },
  {
   "cell_type": "markdown",
   "metadata": {},
   "source": [
    "#### read dataset"
   ]
  },
  {
   "cell_type": "code",
   "execution_count": 10,
   "metadata": {
    "execution": {
     "iopub.execute_input": "2022-03-25T12:37:32.982504Z",
     "iopub.status.busy": "2022-03-25T12:37:32.982165Z",
     "iopub.status.idle": "2022-03-25T12:37:33.092577Z",
     "shell.execute_reply": "2022-03-25T12:37:33.091809Z",
     "shell.execute_reply.started": "2022-03-25T12:37:32.982441Z"
    }
   },
   "outputs": [],
   "source": [
    "df = pd.read_csv('../input/flipkart-dataset-final/final_flipkart.csv')"
   ]
  },
  {
   "cell_type": "code",
   "execution_count": 11,
   "metadata": {
    "execution": {
     "iopub.execute_input": "2022-03-25T12:37:33.093974Z",
     "iopub.status.busy": "2022-03-25T12:37:33.093691Z",
     "iopub.status.idle": "2022-03-25T12:37:33.106157Z",
     "shell.execute_reply": "2022-03-25T12:37:33.105498Z",
     "shell.execute_reply.started": "2022-03-25T12:37:33.093940Z"
    }
   },
   "outputs": [
    {
     "data": {
      "text/html": [
       "<div>\n",
       "<style scoped>\n",
       "    .dataframe tbody tr th:only-of-type {\n",
       "        vertical-align: middle;\n",
       "    }\n",
       "\n",
       "    .dataframe tbody tr th {\n",
       "        vertical-align: top;\n",
       "    }\n",
       "\n",
       "    .dataframe thead th {\n",
       "        text-align: right;\n",
       "    }\n",
       "</style>\n",
       "<table border=\"1\" class=\"dataframe\">\n",
       "  <thead>\n",
       "    <tr style=\"text-align: right;\">\n",
       "      <th></th>\n",
       "      <th>pid</th>\n",
       "      <th>description</th>\n",
       "      <th>category_x</th>\n",
       "      <th>category_y</th>\n",
       "      <th>path</th>\n",
       "      <th>path1</th>\n",
       "    </tr>\n",
       "  </thead>\n",
       "  <tbody>\n",
       "    <tr>\n",
       "      <th>0</th>\n",
       "      <td>SHOEH4GRSUBJGZXE</td>\n",
       "      <td>Key Features of AW Bellies Sandals Wedges Heel...</td>\n",
       "      <td>footwear</td>\n",
       "      <td>Footwear</td>\n",
       "      <td>Footwear/SHOEH4GRSUBJGZXE.jpg</td>\n",
       "      <td>../input/flipkartcomputervisionuploaded/produc...</td>\n",
       "    </tr>\n",
       "    <tr>\n",
       "      <th>1</th>\n",
       "      <td>SRTEH2FVVKRBAXHB</td>\n",
       "      <td>Key Features of Alisha Solid Women's Cycling S...</td>\n",
       "      <td>clothing</td>\n",
       "      <td>Clothing</td>\n",
       "      <td>Clothing/SRTEH2FVVKRBAXHB.jpg</td>\n",
       "      <td>../input/flipkartcomputervisionuploaded/produc...</td>\n",
       "    </tr>\n",
       "    <tr>\n",
       "      <th>2</th>\n",
       "      <td>SHOEH3DZBFR88SCK</td>\n",
       "      <td>Key Features of dilli bazaaar Bellies, Corpora...</td>\n",
       "      <td>footwear</td>\n",
       "      <td>Footwear</td>\n",
       "      <td>Footwear/SHOEH3DZBFR88SCK.jpg</td>\n",
       "      <td>../input/flipkartcomputervisionuploaded/produc...</td>\n",
       "    </tr>\n",
       "    <tr>\n",
       "      <th>3</th>\n",
       "      <td>SRTEH2FVUHAAVH9X</td>\n",
       "      <td>Key Features of Alisha Solid Women's Cycling S...</td>\n",
       "      <td>clothing</td>\n",
       "      <td>Clothing</td>\n",
       "      <td>Clothing/SRTEH2FVUHAAVH9X.jpg</td>\n",
       "      <td>../input/flipkartcomputervisionuploaded/produc...</td>\n",
       "    </tr>\n",
       "    <tr>\n",
       "      <th>4</th>\n",
       "      <td>SHOEH4KM2W3Z6EH5</td>\n",
       "      <td>Key Features of Ladela Bellies Brand: LADELA C...</td>\n",
       "      <td>footwear</td>\n",
       "      <td>Footwear</td>\n",
       "      <td>Footwear/SHOEH4KM2W3Z6EH5.jpg</td>\n",
       "      <td>../input/flipkartcomputervisionuploaded/produc...</td>\n",
       "    </tr>\n",
       "  </tbody>\n",
       "</table>\n",
       "</div>"
      ],
      "text/plain": [
       "                pid                                        description  \\\n",
       "0  SHOEH4GRSUBJGZXE  Key Features of AW Bellies Sandals Wedges Heel...   \n",
       "1  SRTEH2FVVKRBAXHB  Key Features of Alisha Solid Women's Cycling S...   \n",
       "2  SHOEH3DZBFR88SCK  Key Features of dilli bazaaar Bellies, Corpora...   \n",
       "3  SRTEH2FVUHAAVH9X  Key Features of Alisha Solid Women's Cycling S...   \n",
       "4  SHOEH4KM2W3Z6EH5  Key Features of Ladela Bellies Brand: LADELA C...   \n",
       "\n",
       "  category_x category_y                           path  \\\n",
       "0   footwear   Footwear  Footwear/SHOEH4GRSUBJGZXE.jpg   \n",
       "1   clothing   Clothing  Clothing/SRTEH2FVVKRBAXHB.jpg   \n",
       "2   footwear   Footwear  Footwear/SHOEH3DZBFR88SCK.jpg   \n",
       "3   clothing   Clothing  Clothing/SRTEH2FVUHAAVH9X.jpg   \n",
       "4   footwear   Footwear  Footwear/SHOEH4KM2W3Z6EH5.jpg   \n",
       "\n",
       "                                               path1  \n",
       "0  ../input/flipkartcomputervisionuploaded/produc...  \n",
       "1  ../input/flipkartcomputervisionuploaded/produc...  \n",
       "2  ../input/flipkartcomputervisionuploaded/produc...  \n",
       "3  ../input/flipkartcomputervisionuploaded/produc...  \n",
       "4  ../input/flipkartcomputervisionuploaded/produc...  "
      ]
     },
     "execution_count": 11,
     "metadata": {},
     "output_type": "execute_result"
    }
   ],
   "source": [
    "df.head()"
   ]
  },
  {
   "cell_type": "code",
   "execution_count": 12,
   "metadata": {
    "execution": {
     "iopub.execute_input": "2022-03-25T12:37:33.108209Z",
     "iopub.status.busy": "2022-03-25T12:37:33.107204Z",
     "iopub.status.idle": "2022-03-25T12:37:33.126213Z",
     "shell.execute_reply": "2022-03-25T12:37:33.125551Z",
     "shell.execute_reply.started": "2022-03-25T12:37:33.108169Z"
    }
   },
   "outputs": [
    {
     "data": {
      "text/plain": [
       "pid            0\n",
       "description    2\n",
       "category_x     0\n",
       "category_y     0\n",
       "path           0\n",
       "path1          0\n",
       "dtype: int64"
      ]
     },
     "execution_count": 12,
     "metadata": {},
     "output_type": "execute_result"
    }
   ],
   "source": [
    "df.isna().sum()"
   ]
  },
  {
   "cell_type": "code",
   "execution_count": 13,
   "metadata": {
    "execution": {
     "iopub.execute_input": "2022-03-25T12:37:33.128011Z",
     "iopub.status.busy": "2022-03-25T12:37:33.127622Z",
     "iopub.status.idle": "2022-03-25T12:37:33.141627Z",
     "shell.execute_reply": "2022-03-25T12:37:33.140910Z",
     "shell.execute_reply.started": "2022-03-25T12:37:33.127977Z"
    }
   },
   "outputs": [],
   "source": [
    "df.dropna(axis=0, inplace=True)"
   ]
  },
  {
   "cell_type": "code",
   "execution_count": 14,
   "metadata": {
    "execution": {
     "iopub.execute_input": "2022-03-25T12:37:33.145390Z",
     "iopub.status.busy": "2022-03-25T12:37:33.144962Z",
     "iopub.status.idle": "2022-03-25T12:37:33.161481Z",
     "shell.execute_reply": "2022-03-25T12:37:33.160702Z",
     "shell.execute_reply.started": "2022-03-25T12:37:33.145357Z"
    }
   },
   "outputs": [
    {
     "data": {
      "text/plain": [
       "pid            0\n",
       "description    0\n",
       "category_x     0\n",
       "category_y     0\n",
       "path           0\n",
       "path1          0\n",
       "dtype: int64"
      ]
     },
     "execution_count": 14,
     "metadata": {},
     "output_type": "execute_result"
    }
   ],
   "source": [
    "df.isna().sum()"
   ]
  },
  {
   "cell_type": "code",
   "execution_count": 15,
   "metadata": {
    "execution": {
     "iopub.execute_input": "2022-03-25T12:37:33.164080Z",
     "iopub.status.busy": "2022-03-25T12:37:33.163847Z",
     "iopub.status.idle": "2022-03-25T12:37:33.169664Z",
     "shell.execute_reply": "2022-03-25T12:37:33.168953Z",
     "shell.execute_reply.started": "2022-03-25T12:37:33.164049Z"
    }
   },
   "outputs": [
    {
     "data": {
      "text/plain": [
       "(12625, 6)"
      ]
     },
     "execution_count": 15,
     "metadata": {},
     "output_type": "execute_result"
    }
   ],
   "source": [
    "df.shape"
   ]
  },
  {
   "cell_type": "code",
   "execution_count": 16,
   "metadata": {
    "execution": {
     "iopub.execute_input": "2022-03-25T12:37:33.171730Z",
     "iopub.status.busy": "2022-03-25T12:37:33.170980Z",
     "iopub.status.idle": "2022-03-25T12:37:33.186346Z",
     "shell.execute_reply": "2022-03-25T12:37:33.185673Z",
     "shell.execute_reply.started": "2022-03-25T12:37:33.171693Z"
    }
   },
   "outputs": [
    {
     "data": {
      "text/plain": [
       "10"
      ]
     },
     "execution_count": 16,
     "metadata": {},
     "output_type": "execute_result"
    }
   ],
   "source": [
    "df['category_x'].nunique()"
   ]
  },
  {
   "cell_type": "code",
   "execution_count": 17,
   "metadata": {
    "execution": {
     "iopub.execute_input": "2022-03-25T12:37:33.188332Z",
     "iopub.status.busy": "2022-03-25T12:37:33.187566Z",
     "iopub.status.idle": "2022-03-25T12:37:33.198079Z",
     "shell.execute_reply": "2022-03-25T12:37:33.197264Z",
     "shell.execute_reply.started": "2022-03-25T12:37:33.188297Z"
    }
   },
   "outputs": [
    {
     "data": {
      "text/plain": [
       "clothing      4014\n",
       "jewellery     2828\n",
       "home          1413\n",
       "footwear      1001\n",
       "mobiles        870\n",
       "automotive     809\n",
       "beauty         568\n",
       "kitchen        508\n",
       "computers      460\n",
       "watches        154\n",
       "Name: category_x, dtype: int64"
      ]
     },
     "execution_count": 17,
     "metadata": {},
     "output_type": "execute_result"
    }
   ],
   "source": [
    "df['category_x'].value_counts()"
   ]
  },
  {
   "cell_type": "markdown",
   "metadata": {},
   "source": [
    "#### encoding"
   ]
  },
  {
   "cell_type": "code",
   "execution_count": 18,
   "metadata": {
    "execution": {
     "iopub.execute_input": "2022-03-25T12:37:33.199884Z",
     "iopub.status.busy": "2022-03-25T12:37:33.199456Z",
     "iopub.status.idle": "2022-03-25T12:37:33.208340Z",
     "shell.execute_reply": "2022-03-25T12:37:33.207291Z",
     "shell.execute_reply.started": "2022-03-25T12:37:33.199848Z"
    }
   },
   "outputs": [],
   "source": [
    "encoder = LabelEncoder()\n",
    "\n",
    "df['label_encoded'] = encoder.fit_transform(df['category_x'])"
   ]
  },
  {
   "cell_type": "markdown",
   "metadata": {},
   "source": [
    "#### train-test split"
   ]
  },
  {
   "cell_type": "code",
   "execution_count": 19,
   "metadata": {
    "execution": {
     "iopub.execute_input": "2022-03-25T12:37:33.209909Z",
     "iopub.status.busy": "2022-03-25T12:37:33.209520Z",
     "iopub.status.idle": "2022-03-25T12:37:33.237082Z",
     "shell.execute_reply": "2022-03-25T12:37:33.236462Z",
     "shell.execute_reply.started": "2022-03-25T12:37:33.209873Z"
    }
   },
   "outputs": [],
   "source": [
    "df_train, df_test = train_test_split(df, test_size=0.2, stratify=df['category_x'], random_state=22)"
   ]
  },
  {
   "cell_type": "code",
   "execution_count": 20,
   "metadata": {
    "execution": {
     "iopub.execute_input": "2022-03-25T12:37:33.238797Z",
     "iopub.status.busy": "2022-03-25T12:37:33.238530Z",
     "iopub.status.idle": "2022-03-25T12:37:33.244516Z",
     "shell.execute_reply": "2022-03-25T12:37:33.243824Z",
     "shell.execute_reply.started": "2022-03-25T12:37:33.238763Z"
    }
   },
   "outputs": [
    {
     "data": {
      "text/plain": [
       "((10100, 7), (2525, 7))"
      ]
     },
     "execution_count": 20,
     "metadata": {},
     "output_type": "execute_result"
    }
   ],
   "source": [
    "df_train.shape, df_test.shape"
   ]
  },
  {
   "cell_type": "code",
   "execution_count": 21,
   "metadata": {
    "execution": {
     "iopub.execute_input": "2022-03-25T12:37:33.246497Z",
     "iopub.status.busy": "2022-03-25T12:37:33.245927Z",
     "iopub.status.idle": "2022-03-25T12:43:14.100517Z",
     "shell.execute_reply": "2022-03-25T12:43:14.099774Z",
     "shell.execute_reply.started": "2022-03-25T12:37:33.246458Z"
    }
   },
   "outputs": [],
   "source": [
    "train_images = np.array([cv2.resize(cv2.imread(path), img_dim) for path in df_train['path1']])\n",
    "\n",
    "test_images = np.array([cv2.resize(cv2.imread(path), img_dim) for path in df_test['path1']])"
   ]
  },
  {
   "cell_type": "code",
   "execution_count": 22,
   "metadata": {
    "execution": {
     "iopub.execute_input": "2022-03-25T12:43:14.102214Z",
     "iopub.status.busy": "2022-03-25T12:43:14.101971Z",
     "iopub.status.idle": "2022-03-25T12:43:14.111327Z",
     "shell.execute_reply": "2022-03-25T12:43:14.110656Z",
     "shell.execute_reply.started": "2022-03-25T12:43:14.102181Z"
    }
   },
   "outputs": [
    {
     "data": {
      "text/plain": [
       "((10100, 224, 224, 3), (2525, 224, 224, 3))"
      ]
     },
     "execution_count": 22,
     "metadata": {},
     "output_type": "execute_result"
    }
   ],
   "source": [
    "train_images.shape, test_images.shape"
   ]
  },
  {
   "cell_type": "code",
   "execution_count": 23,
   "metadata": {
    "execution": {
     "iopub.execute_input": "2022-03-25T12:43:14.115071Z",
     "iopub.status.busy": "2022-03-25T12:43:14.114892Z",
     "iopub.status.idle": "2022-03-25T12:43:14.119015Z",
     "shell.execute_reply": "2022-03-25T12:43:14.117975Z",
     "shell.execute_reply.started": "2022-03-25T12:43:14.115049Z"
    }
   },
   "outputs": [],
   "source": [
    "train_labels = df_train['label_encoded'].values\n",
    "\n",
    "test_labels = df_test['label_encoded'].values"
   ]
  },
  {
   "cell_type": "code",
   "execution_count": 24,
   "metadata": {
    "execution": {
     "iopub.execute_input": "2022-03-25T12:43:14.120850Z",
     "iopub.status.busy": "2022-03-25T12:43:14.120474Z",
     "iopub.status.idle": "2022-03-25T12:43:14.128251Z",
     "shell.execute_reply": "2022-03-25T12:43:14.127485Z",
     "shell.execute_reply.started": "2022-03-25T12:43:14.120814Z"
    }
   },
   "outputs": [],
   "source": [
    "train_labels = train_labels.reshape(-1, 1)\n",
    "\n",
    "test_labels = test_labels.reshape(-1, 1)"
   ]
  },
  {
   "cell_type": "code",
   "execution_count": 25,
   "metadata": {
    "execution": {
     "iopub.execute_input": "2022-03-25T12:43:14.129894Z",
     "iopub.status.busy": "2022-03-25T12:43:14.129643Z",
     "iopub.status.idle": "2022-03-25T12:43:14.142763Z",
     "shell.execute_reply": "2022-03-25T12:43:14.142066Z",
     "shell.execute_reply.started": "2022-03-25T12:43:14.129863Z"
    }
   },
   "outputs": [
    {
     "data": {
      "text/plain": [
       "((10100, 1), (2525, 1))"
      ]
     },
     "execution_count": 25,
     "metadata": {},
     "output_type": "execute_result"
    }
   ],
   "source": [
    "train_labels.shape, test_labels.shape"
   ]
  },
  {
   "cell_type": "code",
   "execution_count": 26,
   "metadata": {
    "execution": {
     "iopub.execute_input": "2022-03-25T12:43:14.145250Z",
     "iopub.status.busy": "2022-03-25T12:43:14.145046Z",
     "iopub.status.idle": "2022-03-25T12:43:14.152207Z",
     "shell.execute_reply": "2022-03-25T12:43:14.151480Z",
     "shell.execute_reply.started": "2022-03-25T12:43:14.145222Z"
    }
   },
   "outputs": [],
   "source": [
    "train_labels_encoded = to_categorical(train_labels, num_classes=n_classes)\n",
    "\n",
    "test_labels_encoded = to_categorical(test_labels, num_classes=n_classes)"
   ]
  },
  {
   "cell_type": "code",
   "execution_count": 27,
   "metadata": {
    "execution": {
     "iopub.execute_input": "2022-03-25T12:43:14.153710Z",
     "iopub.status.busy": "2022-03-25T12:43:14.153523Z",
     "iopub.status.idle": "2022-03-25T12:43:14.162384Z",
     "shell.execute_reply": "2022-03-25T12:43:14.161440Z",
     "shell.execute_reply.started": "2022-03-25T12:43:14.153688Z"
    }
   },
   "outputs": [
    {
     "data": {
      "text/plain": [
       "((10100, 10), (2525, 10))"
      ]
     },
     "execution_count": 27,
     "metadata": {},
     "output_type": "execute_result"
    }
   ],
   "source": [
    "train_labels_encoded.shape, test_labels_encoded.shape"
   ]
  },
  {
   "cell_type": "markdown",
   "metadata": {},
   "source": [
    "##### mobilenet"
   ]
  },
  {
   "cell_type": "code",
   "execution_count": 28,
   "metadata": {
    "execution": {
     "iopub.execute_input": "2022-03-25T12:43:14.164374Z",
     "iopub.status.busy": "2022-03-25T12:43:14.163537Z",
     "iopub.status.idle": "2022-03-25T12:43:17.536735Z",
     "shell.execute_reply": "2022-03-25T12:43:17.535954Z",
     "shell.execute_reply.started": "2022-03-25T12:43:14.164338Z"
    }
   },
   "outputs": [
    {
     "name": "stderr",
     "output_type": "stream",
     "text": [
      "2022-03-25 12:43:14.248920: I tensorflow/stream_executor/cuda/cuda_gpu_executor.cc:937] successful NUMA node read from SysFS had negative value (-1), but there must be at least one NUMA node, so returning NUMA node zero\n"
     ]
    },
    {
     "name": "stdout",
     "output_type": "stream",
     "text": [
      "Downloading data from https://storage.googleapis.com/tensorflow/keras-applications/mobilenet/mobilenet_1_0_224_tf_no_top.h5\n",
      "17227776/17225924 [==============================] - 0s 0us/step\n",
      "17235968/17225924 [==============================] - 0s 0us/step\n"
     ]
    },
    {
     "name": "stderr",
     "output_type": "stream",
     "text": [
      "2022-03-25 12:43:14.341043: I tensorflow/stream_executor/cuda/cuda_gpu_executor.cc:937] successful NUMA node read from SysFS had negative value (-1), but there must be at least one NUMA node, so returning NUMA node zero\n",
      "2022-03-25 12:43:14.341716: I tensorflow/stream_executor/cuda/cuda_gpu_executor.cc:937] successful NUMA node read from SysFS had negative value (-1), but there must be at least one NUMA node, so returning NUMA node zero\n",
      "2022-03-25 12:43:14.343015: I tensorflow/core/platform/cpu_feature_guard.cc:142] This TensorFlow binary is optimized with oneAPI Deep Neural Network Library (oneDNN) to use the following CPU instructions in performance-critical operations:  AVX2 AVX512F FMA\n",
      "To enable them in other operations, rebuild TensorFlow with the appropriate compiler flags.\n",
      "2022-03-25 12:43:14.343813: I tensorflow/stream_executor/cuda/cuda_gpu_executor.cc:937] successful NUMA node read from SysFS had negative value (-1), but there must be at least one NUMA node, so returning NUMA node zero\n",
      "2022-03-25 12:43:14.344474: I tensorflow/stream_executor/cuda/cuda_gpu_executor.cc:937] successful NUMA node read from SysFS had negative value (-1), but there must be at least one NUMA node, so returning NUMA node zero\n",
      "2022-03-25 12:43:14.345127: I tensorflow/stream_executor/cuda/cuda_gpu_executor.cc:937] successful NUMA node read from SysFS had negative value (-1), but there must be at least one NUMA node, so returning NUMA node zero\n",
      "2022-03-25 12:43:16.134896: I tensorflow/stream_executor/cuda/cuda_gpu_executor.cc:937] successful NUMA node read from SysFS had negative value (-1), but there must be at least one NUMA node, so returning NUMA node zero\n",
      "2022-03-25 12:43:16.135788: I tensorflow/stream_executor/cuda/cuda_gpu_executor.cc:937] successful NUMA node read from SysFS had negative value (-1), but there must be at least one NUMA node, so returning NUMA node zero\n",
      "2022-03-25 12:43:16.136528: I tensorflow/stream_executor/cuda/cuda_gpu_executor.cc:937] successful NUMA node read from SysFS had negative value (-1), but there must be at least one NUMA node, so returning NUMA node zero\n",
      "2022-03-25 12:43:16.137204: I tensorflow/core/common_runtime/gpu/gpu_device.cc:1510] Created device /job:localhost/replica:0/task:0/device:GPU:0 with 15403 MB memory:  -> device: 0, name: Tesla P100-PCIE-16GB, pci bus id: 0000:00:04.0, compute capability: 6.0\n"
     ]
    }
   ],
   "source": [
    "base_model = MobileNet(weights='imagenet', include_top=False, input_shape=(img_dim[0], img_dim[1], 3))\n",
    "\n",
    "base_model.trainable = False"
   ]
  },
  {
   "cell_type": "code",
   "execution_count": 29,
   "metadata": {
    "execution": {
     "iopub.execute_input": "2022-03-25T12:43:17.538558Z",
     "iopub.status.busy": "2022-03-25T12:43:17.538121Z",
     "iopub.status.idle": "2022-03-25T12:43:17.545370Z",
     "shell.execute_reply": "2022-03-25T12:43:17.544550Z",
     "shell.execute_reply.started": "2022-03-25T12:43:17.538518Z"
    }
   },
   "outputs": [],
   "source": [
    "stopping = EarlyStopping(monitor='val_loss', \n",
    "                         patience=3, \n",
    "                         verbose=0, \n",
    "                         restore_best_weights=True)\n",
    "\n",
    "checkpoint = ModelCheckpoint('best_weights.hdf5', \n",
    "                              monitor='val_loss', \n",
    "                              verbose=1, \n",
    "                              save_best_only=True)\n",
    "\n",
    "reduce_lr = ReduceLROnPlateau(monitor='val_loss', \n",
    "                              factor=0.2,\n",
    "                              verbose=1,\n",
    "                              patience=2, \n",
    "                              min_lr=0.001)"
   ]
  },
  {
   "cell_type": "code",
   "execution_count": 30,
   "metadata": {
    "execution": {
     "iopub.execute_input": "2022-03-25T12:43:17.547064Z",
     "iopub.status.busy": "2022-03-25T12:43:17.546636Z",
     "iopub.status.idle": "2022-03-25T12:43:17.770466Z",
     "shell.execute_reply": "2022-03-25T12:43:17.769725Z",
     "shell.execute_reply.started": "2022-03-25T12:43:17.547022Z"
    }
   },
   "outputs": [],
   "source": [
    "model = Sequential()\n",
    "\n",
    "model.add(base_model)\n",
    "\n",
    "model.add(Flatten())\n",
    "\n",
    "model.add(Dense(units=256, activation='relu'))\n",
    "model.add(BatchNormalization())\n",
    "model.add(Dropout(rate=0.3))\n",
    "\n",
    "# model.add(Dense(units=128, activation='relu'))\n",
    "# model.add(BatchNormalization())\n",
    "# model.add(Dropout(rate=0.3))\n",
    "\n",
    "model.add(Dense(units=n_classes, activation='softmax'))  "
   ]
  },
  {
   "cell_type": "markdown",
   "metadata": {},
   "source": [
    "#### evaluation metrics"
   ]
  },
  {
   "cell_type": "code",
   "execution_count": 31,
   "metadata": {
    "execution": {
     "iopub.execute_input": "2022-03-25T12:43:17.772207Z",
     "iopub.status.busy": "2022-03-25T12:43:17.771935Z",
     "iopub.status.idle": "2022-03-25T12:43:17.779207Z",
     "shell.execute_reply": "2022-03-25T12:43:17.778468Z",
     "shell.execute_reply.started": "2022-03-25T12:43:17.772171Z"
    }
   },
   "outputs": [],
   "source": [
    "import keras.backend as K\n",
    "\n",
    "def f1_metric_custom(y_true, y_pred):\n",
    "    \n",
    "    true_positives = K.sum(K.round(K.clip(y_true * y_pred, 0, 1)))\n",
    "    \n",
    "    possible_positives = K.sum(K.round(K.clip(y_true, 0, 1)))\n",
    "    \n",
    "    predicted_positives = K.sum(K.round(K.clip(y_pred, 0, 1)))\n",
    "    \n",
    "    precision = true_positives / (predicted_positives + K.epsilon())\n",
    "    \n",
    "    recall = true_positives / (possible_positives + K.epsilon())\n",
    "    \n",
    "    f1_val = 2 * (precision * recall) / (precision + recall + K.epsilon())\n",
    "    \n",
    "    return f1_val"
   ]
  },
  {
   "cell_type": "code",
   "execution_count": 32,
   "metadata": {
    "execution": {
     "iopub.execute_input": "2022-03-25T12:43:17.781099Z",
     "iopub.status.busy": "2022-03-25T12:43:17.780619Z",
     "iopub.status.idle": "2022-03-25T12:43:17.806480Z",
     "shell.execute_reply": "2022-03-25T12:43:17.805799Z",
     "shell.execute_reply.started": "2022-03-25T12:43:17.781048Z"
    }
   },
   "outputs": [],
   "source": [
    "model.compile(optimizer=Adam(learning_rate=1e-4), loss='categorical_crossentropy', metrics=[f1_metric_custom, F1Score(num_classes=n_classes, average='macro')])"
   ]
  },
  {
   "cell_type": "code",
   "execution_count": 33,
   "metadata": {
    "execution": {
     "iopub.execute_input": "2022-03-25T12:43:17.808207Z",
     "iopub.status.busy": "2022-03-25T12:43:17.807933Z",
     "iopub.status.idle": "2022-03-25T12:43:17.822522Z",
     "shell.execute_reply": "2022-03-25T12:43:17.821508Z",
     "shell.execute_reply.started": "2022-03-25T12:43:17.808172Z"
    }
   },
   "outputs": [
    {
     "name": "stdout",
     "output_type": "stream",
     "text": [
      "Model: \"sequential\"\n",
      "_________________________________________________________________\n",
      "Layer (type)                 Output Shape              Param #   \n",
      "=================================================================\n",
      "mobilenet_1.00_224 (Function (None, 7, 7, 1024)        3228864   \n",
      "_________________________________________________________________\n",
      "flatten (Flatten)            (None, 50176)             0         \n",
      "_________________________________________________________________\n",
      "dense (Dense)                (None, 256)               12845312  \n",
      "_________________________________________________________________\n",
      "batch_normalization (BatchNo (None, 256)               1024      \n",
      "_________________________________________________________________\n",
      "dropout (Dropout)            (None, 256)               0         \n",
      "_________________________________________________________________\n",
      "dense_1 (Dense)              (None, 10)                2570      \n",
      "=================================================================\n",
      "Total params: 16,077,770\n",
      "Trainable params: 12,848,394\n",
      "Non-trainable params: 3,229,376\n",
      "_________________________________________________________________\n"
     ]
    }
   ],
   "source": [
    "model.summary()"
   ]
  },
  {
   "cell_type": "code",
   "execution_count": 34,
   "metadata": {
    "execution": {
     "iopub.execute_input": "2022-03-25T12:43:17.824889Z",
     "iopub.status.busy": "2022-03-25T12:43:17.824032Z",
     "iopub.status.idle": "2022-03-25T12:44:18.682108Z",
     "shell.execute_reply": "2022-03-25T12:44:18.681332Z",
     "shell.execute_reply.started": "2022-03-25T12:43:17.824850Z"
    }
   },
   "outputs": [
    {
     "name": "stderr",
     "output_type": "stream",
     "text": [
      "2022-03-25 12:43:17.829629: W tensorflow/core/framework/cpu_allocator_impl.cc:80] Allocation of 1216266240 exceeds 10% of free system memory.\n",
      "2022-03-25 12:43:19.085464: W tensorflow/core/framework/cpu_allocator_impl.cc:80] Allocation of 1216266240 exceeds 10% of free system memory.\n",
      "2022-03-25 12:43:19.998965: I tensorflow/compiler/mlir/mlir_graph_optimization_pass.cc:185] None of the MLIR Optimization Passes are enabled (registered 2)\n"
     ]
    },
    {
     "name": "stdout",
     "output_type": "stream",
     "text": [
      "Epoch 1/20\n"
     ]
    },
    {
     "name": "stderr",
     "output_type": "stream",
     "text": [
      "2022-03-25 12:43:23.295529: I tensorflow/stream_executor/cuda/cuda_dnn.cc:369] Loaded cuDNN version 8005\n"
     ]
    },
    {
     "name": "stdout",
     "output_type": "stream",
     "text": [
      "127/127 [==============================] - 16s 62ms/step - loss: 0.7742 - f1_metric_custom: 0.7874 - f1_score: 0.6856 - val_loss: 0.4458 - val_f1_metric_custom: 0.8802 - val_f1_score: 0.8138\n",
      "\n",
      "Epoch 00001: val_loss improved from inf to 0.44582, saving model to best_weights.hdf5\n",
      "Epoch 2/20\n",
      "127/127 [==============================] - 7s 53ms/step - loss: 0.2143 - f1_metric_custom: 0.9396 - f1_score: 0.9220 - val_loss: 0.4469 - val_f1_metric_custom: 0.8818 - val_f1_score: 0.8167\n",
      "\n",
      "Epoch 00002: val_loss did not improve from 0.44582\n",
      "Epoch 3/20\n",
      "127/127 [==============================] - 7s 53ms/step - loss: 0.0860 - f1_metric_custom: 0.9809 - f1_score: 0.9770 - val_loss: 0.3928 - val_f1_metric_custom: 0.8975 - val_f1_score: 0.8405\n",
      "\n",
      "Epoch 00003: val_loss improved from 0.44582 to 0.39276, saving model to best_weights.hdf5\n",
      "Epoch 4/20\n",
      "127/127 [==============================] - 7s 53ms/step - loss: 0.0388 - f1_metric_custom: 0.9943 - f1_score: 0.9949 - val_loss: 0.3643 - val_f1_metric_custom: 0.9061 - val_f1_score: 0.8551\n",
      "\n",
      "Epoch 00004: val_loss improved from 0.39276 to 0.36433, saving model to best_weights.hdf5\n",
      "Epoch 5/20\n",
      "127/127 [==============================] - 7s 53ms/step - loss: 0.0229 - f1_metric_custom: 0.9977 - f1_score: 0.9976 - val_loss: 0.3728 - val_f1_metric_custom: 0.9034 - val_f1_score: 0.8520\n",
      "\n",
      "Epoch 00005: val_loss did not improve from 0.36433\n",
      "Epoch 6/20\n",
      "127/127 [==============================] - 7s 52ms/step - loss: 0.0162 - f1_metric_custom: 0.9984 - f1_score: 0.9982 - val_loss: 0.3779 - val_f1_metric_custom: 0.9059 - val_f1_score: 0.8600\n",
      "\n",
      "Epoch 00006: val_loss did not improve from 0.36433\n",
      "Epoch 7/20\n",
      "127/127 [==============================] - 7s 52ms/step - loss: 0.0091 - f1_metric_custom: 0.9996 - f1_score: 0.9998 - val_loss: 0.3882 - val_f1_metric_custom: 0.9027 - val_f1_score: 0.8547\n",
      "\n",
      "Epoch 00007: val_loss did not improve from 0.36433\n"
     ]
    }
   ],
   "source": [
    "model_hist = model.fit(train_images, train_labels_encoded, validation_split=0.2, epochs=20, batch_size=64, workers=8, callbacks=[checkpoint, stopping, reduce_lr])  "
   ]
  },
  {
   "cell_type": "markdown",
   "metadata": {},
   "source": [
    "#### result"
   ]
  },
  {
   "cell_type": "code",
   "execution_count": 35,
   "metadata": {
    "execution": {
     "iopub.execute_input": "2022-03-25T12:44:18.683843Z",
     "iopub.status.busy": "2022-03-25T12:44:18.683423Z",
     "iopub.status.idle": "2022-03-25T12:44:47.279125Z",
     "shell.execute_reply": "2022-03-25T12:44:47.278042Z",
     "shell.execute_reply.started": "2022-03-25T12:44:18.683804Z"
    }
   },
   "outputs": [
    {
     "name": "stdout",
     "output_type": "stream",
     "text": [
      "79/79 [==============================] - 2s 24ms/step - loss: 0.4303 - f1_metric_custom: 0.8883 - f1_score: 0.8335\n",
      "F1 score: 88.83417844772339\n"
     ]
    }
   ],
   "source": [
    "print(f'F1 score: {model.evaluate(test_images, test_labels_encoded)[1]*100}')"
   ]
  }
 ],
 "metadata": {
  "kernelspec": {
   "display_name": "Python 3 (ipykernel)",
   "language": "python",
   "name": "python3"
  },
  "language_info": {
   "codemirror_mode": {
    "name": "ipython",
    "version": 3
   },
   "file_extension": ".py",
   "mimetype": "text/x-python",
   "name": "python",
   "nbconvert_exporter": "python",
   "pygments_lexer": "ipython3",
   "version": "3.9.12"
  }
 },
 "nbformat": 4,
 "nbformat_minor": 4
}
