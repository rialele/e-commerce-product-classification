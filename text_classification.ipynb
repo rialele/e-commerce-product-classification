{
 "cells": [
  {
   "cell_type": "markdown",
   "metadata": {},
   "source": [
    "#### imports"
   ]
  },
  {
   "cell_type": "code",
   "execution_count": 1,
   "metadata": {
    "_cell_guid": "b1076dfc-b9ad-4769-8c92-a6c4dae69d19",
    "_uuid": "8f2839f25d086af736a60e9eeb907d3b93b6e0e5",
    "execution": {
     "iopub.execute_input": "2022-03-25T12:36:16.302181Z",
     "iopub.status.busy": "2022-03-25T12:36:16.301864Z",
     "iopub.status.idle": "2022-03-25T12:36:22.705003Z",
     "shell.execute_reply": "2022-03-25T12:36:22.704276Z",
     "shell.execute_reply.started": "2022-03-25T12:36:16.302104Z"
    }
   },
   "outputs": [],
   "source": [
    "import os\n",
    "import re\n",
    "import joblib\n",
    "import numpy as np \n",
    "import pandas as pd\n",
    "from glob import glob\n",
    "import seaborn as sns\n",
    "import matplotlib.pyplot as plt\n",
    "\n",
    "from string import punctuation\n",
    "from nltk.corpus import stopwords\n",
    "from nltk.stem import WordNetLemmatizer\n",
    "from nltk.tokenize import word_tokenize\n",
    "\n",
    "from sklearn.preprocessing import LabelEncoder\n",
    "from sklearn.model_selection import train_test_split\n",
    "from sklearn.feature_extraction.text import TfidfVectorizer\n",
    "\n",
    "import gensim\n",
    "from gensim.parsing.preprocessing import remove_stopwords, STOPWORDS\n",
    "\n",
    "import tensorflow as tf\n",
    "import keras.backend as K\n",
    "from tensorflow.keras.optimizers import Adam\n",
    "from tensorflow_addons.metrics import F1Score\n",
    "from tensorflow.keras.models import Sequential\n",
    "from tensorflow.keras.utils import to_categorical\n",
    "from tensorflow.keras.preprocessing.text import Tokenizer\n",
    "from tensorflow.keras.losses import CategoricalCrossentropy\n",
    "from tensorflow.keras.preprocessing.sequence import pad_sequences\n",
    "from tensorflow.keras.layers.experimental.preprocessing import TextVectorization\n",
    "from tensorflow.keras.callbacks import ReduceLROnPlateau, EarlyStopping, ModelCheckpoint\n",
    "from tensorflow.keras.layers import Conv2D, MaxPooling2D, Dense, Flatten, Dropout, BatchNormalization, ReLU, LSTM, Bidirectional, Embedding\n"
   ]
  },
  {
   "cell_type": "markdown",
   "metadata": {},
   "source": [
    "#### read data"
   ]
  },
  {
   "cell_type": "code",
   "execution_count": 2,
   "metadata": {
    "execution": {
     "iopub.execute_input": "2022-03-25T12:36:22.706920Z",
     "iopub.status.busy": "2022-03-25T12:36:22.706673Z",
     "iopub.status.idle": "2022-03-25T12:36:22.887966Z",
     "shell.execute_reply": "2022-03-25T12:36:22.887247Z",
     "shell.execute_reply.started": "2022-03-25T12:36:22.706886Z"
    }
   },
   "outputs": [],
   "source": [
    "df = pd.read_csv('../input/flipkart-dataset-final/final_flipkart.csv')"
   ]
  },
  {
   "cell_type": "code",
   "execution_count": 3,
   "metadata": {
    "execution": {
     "iopub.execute_input": "2022-03-25T12:36:22.889936Z",
     "iopub.status.busy": "2022-03-25T12:36:22.889257Z",
     "iopub.status.idle": "2022-03-25T12:36:22.909107Z",
     "shell.execute_reply": "2022-03-25T12:36:22.908374Z",
     "shell.execute_reply.started": "2022-03-25T12:36:22.889899Z"
    }
   },
   "outputs": [
    {
     "data": {
      "text/html": [
       "<div>\n",
       "<style scoped>\n",
       "    .dataframe tbody tr th:only-of-type {\n",
       "        vertical-align: middle;\n",
       "    }\n",
       "\n",
       "    .dataframe tbody tr th {\n",
       "        vertical-align: top;\n",
       "    }\n",
       "\n",
       "    .dataframe thead th {\n",
       "        text-align: right;\n",
       "    }\n",
       "</style>\n",
       "<table border=\"1\" class=\"dataframe\">\n",
       "  <thead>\n",
       "    <tr style=\"text-align: right;\">\n",
       "      <th></th>\n",
       "      <th>pid</th>\n",
       "      <th>description</th>\n",
       "      <th>category_x</th>\n",
       "      <th>category_y</th>\n",
       "      <th>path</th>\n",
       "      <th>path1</th>\n",
       "    </tr>\n",
       "  </thead>\n",
       "  <tbody>\n",
       "    <tr>\n",
       "      <th>0</th>\n",
       "      <td>SHOEH4GRSUBJGZXE</td>\n",
       "      <td>Key Features of AW Bellies Sandals Wedges Heel...</td>\n",
       "      <td>footwear</td>\n",
       "      <td>Footwear</td>\n",
       "      <td>Footwear/SHOEH4GRSUBJGZXE.jpg</td>\n",
       "      <td>../input/flipkartcomputervisionuploaded/produc...</td>\n",
       "    </tr>\n",
       "    <tr>\n",
       "      <th>1</th>\n",
       "      <td>SRTEH2FVVKRBAXHB</td>\n",
       "      <td>Key Features of Alisha Solid Women's Cycling S...</td>\n",
       "      <td>clothing</td>\n",
       "      <td>Clothing</td>\n",
       "      <td>Clothing/SRTEH2FVVKRBAXHB.jpg</td>\n",
       "      <td>../input/flipkartcomputervisionuploaded/produc...</td>\n",
       "    </tr>\n",
       "    <tr>\n",
       "      <th>2</th>\n",
       "      <td>SHOEH3DZBFR88SCK</td>\n",
       "      <td>Key Features of dilli bazaaar Bellies, Corpora...</td>\n",
       "      <td>footwear</td>\n",
       "      <td>Footwear</td>\n",
       "      <td>Footwear/SHOEH3DZBFR88SCK.jpg</td>\n",
       "      <td>../input/flipkartcomputervisionuploaded/produc...</td>\n",
       "    </tr>\n",
       "    <tr>\n",
       "      <th>3</th>\n",
       "      <td>SRTEH2FVUHAAVH9X</td>\n",
       "      <td>Key Features of Alisha Solid Women's Cycling S...</td>\n",
       "      <td>clothing</td>\n",
       "      <td>Clothing</td>\n",
       "      <td>Clothing/SRTEH2FVUHAAVH9X.jpg</td>\n",
       "      <td>../input/flipkartcomputervisionuploaded/produc...</td>\n",
       "    </tr>\n",
       "    <tr>\n",
       "      <th>4</th>\n",
       "      <td>SHOEH4KM2W3Z6EH5</td>\n",
       "      <td>Key Features of Ladela Bellies Brand: LADELA C...</td>\n",
       "      <td>footwear</td>\n",
       "      <td>Footwear</td>\n",
       "      <td>Footwear/SHOEH4KM2W3Z6EH5.jpg</td>\n",
       "      <td>../input/flipkartcomputervisionuploaded/produc...</td>\n",
       "    </tr>\n",
       "  </tbody>\n",
       "</table>\n",
       "</div>"
      ],
      "text/plain": [
       "                pid                                        description  \\\n",
       "0  SHOEH4GRSUBJGZXE  Key Features of AW Bellies Sandals Wedges Heel...   \n",
       "1  SRTEH2FVVKRBAXHB  Key Features of Alisha Solid Women's Cycling S...   \n",
       "2  SHOEH3DZBFR88SCK  Key Features of dilli bazaaar Bellies, Corpora...   \n",
       "3  SRTEH2FVUHAAVH9X  Key Features of Alisha Solid Women's Cycling S...   \n",
       "4  SHOEH4KM2W3Z6EH5  Key Features of Ladela Bellies Brand: LADELA C...   \n",
       "\n",
       "  category_x category_y                           path  \\\n",
       "0   footwear   Footwear  Footwear/SHOEH4GRSUBJGZXE.jpg   \n",
       "1   clothing   Clothing  Clothing/SRTEH2FVVKRBAXHB.jpg   \n",
       "2   footwear   Footwear  Footwear/SHOEH3DZBFR88SCK.jpg   \n",
       "3   clothing   Clothing  Clothing/SRTEH2FVUHAAVH9X.jpg   \n",
       "4   footwear   Footwear  Footwear/SHOEH4KM2W3Z6EH5.jpg   \n",
       "\n",
       "                                               path1  \n",
       "0  ../input/flipkartcomputervisionuploaded/produc...  \n",
       "1  ../input/flipkartcomputervisionuploaded/produc...  \n",
       "2  ../input/flipkartcomputervisionuploaded/produc...  \n",
       "3  ../input/flipkartcomputervisionuploaded/produc...  \n",
       "4  ../input/flipkartcomputervisionuploaded/produc...  "
      ]
     },
     "execution_count": 3,
     "metadata": {},
     "output_type": "execute_result"
    }
   ],
   "source": [
    "df.head()"
   ]
  },
  {
   "cell_type": "markdown",
   "metadata": {},
   "source": [
    "#### configuration"
   ]
  },
  {
   "cell_type": "code",
   "execution_count": 4,
   "metadata": {
    "execution": {
     "iopub.execute_input": "2022-03-25T12:36:22.911299Z",
     "iopub.status.busy": "2022-03-25T12:36:22.911039Z",
     "iopub.status.idle": "2022-03-25T12:36:22.922374Z",
     "shell.execute_reply": "2022-03-25T12:36:22.921553Z",
     "shell.execute_reply.started": "2022-03-25T12:36:22.911263Z"
    }
   },
   "outputs": [],
   "source": [
    "seed = 42\n",
    "maxlen = 100\n",
    "max_words = 10000\n",
    "embedding_dim = 100\n",
    "epochs = 50\n",
    "batch_size = 64\n",
    "val_split = 0.2\n",
    "learning_rate = 1e-4\n",
    "num_classes = df['category_x'].nunique()\n",
    "glove_dir = '../input/glove-embeddings'\n"
   ]
  },
  {
   "cell_type": "markdown",
   "metadata": {},
   "source": [
    "#### contraction mappings"
   ]
  },
  {
   "cell_type": "code",
   "execution_count": 5,
   "metadata": {
    "execution": {
     "iopub.execute_input": "2022-03-25T12:36:22.925059Z",
     "iopub.status.busy": "2022-03-25T12:36:22.924372Z",
     "iopub.status.idle": "2022-03-25T12:36:22.940544Z",
     "shell.execute_reply": "2022-03-25T12:36:22.939784Z",
     "shell.execute_reply.started": "2022-03-25T12:36:22.925023Z"
    }
   },
   "outputs": [],
   "source": [
    "cList = {\n",
    "  \"ain't\": \"am not\",\n",
    "  \"aren't\": \"are not\",\n",
    "  \"can't\": \"cannot\",\n",
    "  \"can't've\": \"cannot have\",\n",
    "  \"'cause\": \"because\",\n",
    "  \"could've\": \"could have\",\n",
    "  \"couldn't\": \"could not\",\n",
    "  \"couldn't've\": \"could not have\",\n",
    "  \"didn't\": \"did not\",\n",
    "  \"doesn't\": \"does not\",\n",
    "  \"don't\": \"do not\",\n",
    "  \"hadn't\": \"had not\",\n",
    "  \"hadn't've\": \"had not have\",\n",
    "  \"hasn't\": \"has not\",\n",
    "  \"haven't\": \"have not\",\n",
    "  \"he'd\": \"he would\",\n",
    "  \"he'd've\": \"he would have\",\n",
    "  \"he'll\": \"he will\",\n",
    "  \"he'll've\": \"he will have\",\n",
    "  \"he's\": \"he is\",\n",
    "  \"how'd\": \"how did\",\n",
    "  \"how'd'y\": \"how do you\",\n",
    "  \"how'll\": \"how will\",\n",
    "  \"how's\": \"how is\",\n",
    "  \"i'd\": \"i would\",\n",
    "  \"i'd've\": \"i would have\",\n",
    "  \"i'll\": \"i will\",\n",
    "  \"i'll've\": \"i will have\",\n",
    "  \"i'm\": \"i am\",\n",
    "  \"i've\": \"i have\",\n",
    "  \"isn't\": \"is not\",\n",
    "  \"it'd\": \"it had\",\n",
    "  \"it'd've\": \"it would have\",\n",
    "  \"it'll\": \"it will\",\n",
    "  \"it'll've\": \"it will have\",\n",
    "  \"it's\": \"it is\",\n",
    "  \"let's\": \"let us\",\n",
    "  \"ma'am\": \"madam\",\n",
    "  \"mayn't\": \"may not\",\n",
    "  \"might've\": \"might have\",\n",
    "  \"mightn't\": \"might not\",\n",
    "  \"mightn't've\": \"might not have\",\n",
    "  \"must've\": \"must have\",\n",
    "  \"mustn't\": \"must not\",\n",
    "  \"mustn't've\": \"must not have\",\n",
    "  \"needn't\": \"need not\",\n",
    "  \"needn't've\": \"need not have\",\n",
    "  \"o'clock\": \"of the clock\",\n",
    "  \"oughtn't\": \"ought not\",\n",
    "  \"oughtn't've\": \"ought not have\",\n",
    "  \"shan't\": \"shall not\",\n",
    "  \"sha'n't\": \"shall not\",\n",
    "  \"shan't've\": \"shall not have\",\n",
    "  \"she'd\": \"she would\",\n",
    "  \"she'd've\": \"she would have\",\n",
    "  \"she'll\": \"she will\",\n",
    "  \"she'll've\": \"she will have\",\n",
    "  \"she's\": \"she is\",\n",
    "  \"should've\": \"should have\",\n",
    "  \"shouldn't\": \"should not\",\n",
    "  \"shouldn't've\": \"should not have\",\n",
    "  \"so've\": \"so have\",\n",
    "  \"so's\": \"so is\",\n",
    "  \"that'd\": \"that would\",\n",
    "  \"that'd've\": \"that would have\",\n",
    "  \"that's\": \"that is\",\n",
    "  \"there'd\": \"there had\",\n",
    "  \"there'd've\": \"there would have\",\n",
    "  \"there's\": \"there is\",\n",
    "  \"they'd\": \"they would\",\n",
    "  \"they'd've\": \"they would have\",\n",
    "  \"they'll\": \"they will\",\n",
    "  \"they'll've\": \"they will have\",\n",
    "  \"they're\": \"they are\",\n",
    "  \"they've\": \"they have\",\n",
    "  \"to've\": \"to have\",\n",
    "  \"wasn't\": \"was not\",\n",
    "  \"we'd\": \"we had\",\n",
    "  \"we'd've\": \"we would have\",\n",
    "  \"we'll\": \"we will\",\n",
    "  \"we'll've\": \"we will have\",\n",
    "  \"we're\": \"we are\",\n",
    "  \"we've\": \"we have\",\n",
    "  \"weren't\": \"were not\",\n",
    "  \"what'll\": \"what will\",\n",
    "  \"what'll've\": \"what will have\",\n",
    "  \"what're\": \"what are\",\n",
    "  \"what's\": \"what is\",\n",
    "  \"what've\": \"what have\",\n",
    "  \"when's\": \"when is\",\n",
    "  \"when've\": \"when have\",\n",
    "  \"where'd\": \"where did\",\n",
    "  \"where's\": \"where is\",\n",
    "  \"where've\": \"where have\",\n",
    "  \"who'll\": \"who will\",\n",
    "  \"who'll've\": \"who will have\",\n",
    "  \"who's\": \"who is\",\n",
    "  \"who've\": \"who have\",\n",
    "  \"why's\": \"why is\",\n",
    "  \"why've\": \"why have\",\n",
    "  \"will've\": \"will have\",\n",
    "  \"won't\": \"will not\",\n",
    "  \"won't've\": \"will not have\",\n",
    "  \"would've\": \"would have\",\n",
    "  \"wouldn't\": \"would not\",\n",
    "  \"wouldn't've\": \"would not have\",\n",
    "  \"y'all\": \"you all\",\n",
    "  \"y'alls\": \"you alls\",\n",
    "  \"y'all'd\": \"you all would\",\n",
    "  \"y'all'd've\": \"you all would have\",\n",
    "  \"y'all're\": \"you all are\",\n",
    "  \"y'all've\": \"you all have\",\n",
    "  \"you'd\": \"you had\",\n",
    "  \"you'd've\": \"you would have\",\n",
    "  \"you'll\": \"you you will\",\n",
    "  \"you'll've\": \"you you will have\",\n",
    "  \"you're\": \"you are\",\n",
    "  \"you've\": \"you have\"\n",
    "}"
   ]
  },
  {
   "cell_type": "code",
   "execution_count": 6,
   "metadata": {
    "execution": {
     "iopub.execute_input": "2022-03-25T12:36:22.942346Z",
     "iopub.status.busy": "2022-03-25T12:36:22.942005Z",
     "iopub.status.idle": "2022-03-25T12:36:22.955365Z",
     "shell.execute_reply": "2022-03-25T12:36:22.954732Z",
     "shell.execute_reply.started": "2022-03-25T12:36:22.942312Z"
    }
   },
   "outputs": [],
   "source": [
    "c_re = re.compile('(%s)' % '|'.join(cList.keys()))"
   ]
  },
  {
   "cell_type": "markdown",
   "metadata": {},
   "source": [
    "#### utils"
   ]
  },
  {
   "cell_type": "code",
   "execution_count": 7,
   "metadata": {
    "execution": {
     "iopub.execute_input": "2022-03-25T12:36:22.958545Z",
     "iopub.status.busy": "2022-03-25T12:36:22.956356Z",
     "iopub.status.idle": "2022-03-25T12:36:22.971140Z",
     "shell.execute_reply": "2022-03-25T12:36:22.970335Z",
     "shell.execute_reply.started": "2022-03-25T12:36:22.958493Z"
    }
   },
   "outputs": [],
   "source": [
    "\n",
    "def expandContractions(text, c_re=c_re):\n",
    "    \n",
    "    def replace(match):\n",
    "        return cList[match.group(0)]\n",
    "    \n",
    "    return c_re.sub(replace, text.lower())\n",
    "\n",
    "def clean_text(row):\n",
    "    ''' Preprocessing'''\n",
    "    \n",
    "    row = row.lower() # converting text to lower case\n",
    "    \n",
    "    row = re.sub(r'[^a-z0-9]', ' ', row) # removing special characters, and adding whitespace\n",
    "    \n",
    "    row = re.sub(r'[^\\w\\s\\n]', ' ', row) # removing punctuations and newline character, and adding whitespace\n",
    "                    \n",
    "    row = expandContractions(row, c_re=c_re)\n",
    "    \n",
    "    row = remove_stopwords(row) # removing stopwords using gensim\n",
    "    \n",
    "    row = lemmatizer.lemmatize(row, pos='v') # param: pos='v'\n",
    "\n",
    "    return row\n",
    "    \n",
    "def preprocess(data):\n",
    "    \n",
    "    data['description'] = data['description'].astype('str')\n",
    "    data['clean_text'] = data['description'].apply(clean_text)\n",
    "    description_clean = data['clean_text'].tolist()\n",
    "    tokenizer.fit_on_texts(description_clean)\n",
    "    word_index = tokenizer.word_index\n",
    "    X = tokenizer.texts_to_sequences(description_clean)\n",
    "    X = pad_sequences(X, maxlen=maxlen)\n",
    "    return X,word_index\n",
    "    \n",
    "\n",
    "def test_text(text):\n",
    "    \n",
    "    data = pd.DataFrame({'description':[text]})\n",
    "    X,word_index = preprocess(data)\n",
    "    probs = model.predict(X)\n",
    "    y_pred = encoder.inverse_transform(np.argmax(probs,axis = 1))\n",
    "    \n",
    "    return y_pred\n",
    "\n",
    "\n",
    "def f1_metric_custom(y_true, y_pred):\n",
    "    \n",
    "    true_positives = K.sum(K.round(K.clip(y_true * y_pred, 0, 1)))\n",
    "    possible_positives = K.sum(K.round(K.clip(y_true, 0, 1)))\n",
    "    predicted_positives = K.sum(K.round(K.clip(y_pred, 0, 1)))\n",
    "    precision = true_positives / (predicted_positives + K.epsilon())\n",
    "    recall = true_positives / (possible_positives + K.epsilon())\n",
    "    f1_val = 2 * (precision * recall) / (precision + recall + K.epsilon())\n",
    "    \n",
    "    return f1_val\n"
   ]
  },
  {
   "cell_type": "code",
   "execution_count": 8,
   "metadata": {
    "execution": {
     "iopub.execute_input": "2022-03-25T12:36:22.973681Z",
     "iopub.status.busy": "2022-03-25T12:36:22.972726Z",
     "iopub.status.idle": "2022-03-25T12:36:22.991293Z",
     "shell.execute_reply": "2022-03-25T12:36:22.990224Z",
     "shell.execute_reply.started": "2022-03-25T12:36:22.973640Z"
    }
   },
   "outputs": [
    {
     "data": {
      "text/html": [
       "<div>\n",
       "<style scoped>\n",
       "    .dataframe tbody tr th:only-of-type {\n",
       "        vertical-align: middle;\n",
       "    }\n",
       "\n",
       "    .dataframe tbody tr th {\n",
       "        vertical-align: top;\n",
       "    }\n",
       "\n",
       "    .dataframe thead th {\n",
       "        text-align: right;\n",
       "    }\n",
       "</style>\n",
       "<table border=\"1\" class=\"dataframe\">\n",
       "  <thead>\n",
       "    <tr style=\"text-align: right;\">\n",
       "      <th></th>\n",
       "      <th>pid</th>\n",
       "      <th>description</th>\n",
       "      <th>category_x</th>\n",
       "      <th>category_y</th>\n",
       "      <th>path</th>\n",
       "      <th>path1</th>\n",
       "    </tr>\n",
       "  </thead>\n",
       "  <tbody>\n",
       "    <tr>\n",
       "      <th>0</th>\n",
       "      <td>SHOEH4GRSUBJGZXE</td>\n",
       "      <td>Key Features of AW Bellies Sandals Wedges Heel...</td>\n",
       "      <td>footwear</td>\n",
       "      <td>Footwear</td>\n",
       "      <td>Footwear/SHOEH4GRSUBJGZXE.jpg</td>\n",
       "      <td>../input/flipkartcomputervisionuploaded/produc...</td>\n",
       "    </tr>\n",
       "    <tr>\n",
       "      <th>1</th>\n",
       "      <td>SRTEH2FVVKRBAXHB</td>\n",
       "      <td>Key Features of Alisha Solid Women's Cycling S...</td>\n",
       "      <td>clothing</td>\n",
       "      <td>Clothing</td>\n",
       "      <td>Clothing/SRTEH2FVVKRBAXHB.jpg</td>\n",
       "      <td>../input/flipkartcomputervisionuploaded/produc...</td>\n",
       "    </tr>\n",
       "    <tr>\n",
       "      <th>2</th>\n",
       "      <td>SHOEH3DZBFR88SCK</td>\n",
       "      <td>Key Features of dilli bazaaar Bellies, Corpora...</td>\n",
       "      <td>footwear</td>\n",
       "      <td>Footwear</td>\n",
       "      <td>Footwear/SHOEH3DZBFR88SCK.jpg</td>\n",
       "      <td>../input/flipkartcomputervisionuploaded/produc...</td>\n",
       "    </tr>\n",
       "    <tr>\n",
       "      <th>3</th>\n",
       "      <td>SRTEH2FVUHAAVH9X</td>\n",
       "      <td>Key Features of Alisha Solid Women's Cycling S...</td>\n",
       "      <td>clothing</td>\n",
       "      <td>Clothing</td>\n",
       "      <td>Clothing/SRTEH2FVUHAAVH9X.jpg</td>\n",
       "      <td>../input/flipkartcomputervisionuploaded/produc...</td>\n",
       "    </tr>\n",
       "    <tr>\n",
       "      <th>4</th>\n",
       "      <td>SHOEH4KM2W3Z6EH5</td>\n",
       "      <td>Key Features of Ladela Bellies Brand: LADELA C...</td>\n",
       "      <td>footwear</td>\n",
       "      <td>Footwear</td>\n",
       "      <td>Footwear/SHOEH4KM2W3Z6EH5.jpg</td>\n",
       "      <td>../input/flipkartcomputervisionuploaded/produc...</td>\n",
       "    </tr>\n",
       "  </tbody>\n",
       "</table>\n",
       "</div>"
      ],
      "text/plain": [
       "                pid                                        description  \\\n",
       "0  SHOEH4GRSUBJGZXE  Key Features of AW Bellies Sandals Wedges Heel...   \n",
       "1  SRTEH2FVVKRBAXHB  Key Features of Alisha Solid Women's Cycling S...   \n",
       "2  SHOEH3DZBFR88SCK  Key Features of dilli bazaaar Bellies, Corpora...   \n",
       "3  SRTEH2FVUHAAVH9X  Key Features of Alisha Solid Women's Cycling S...   \n",
       "4  SHOEH4KM2W3Z6EH5  Key Features of Ladela Bellies Brand: LADELA C...   \n",
       "\n",
       "  category_x category_y                           path  \\\n",
       "0   footwear   Footwear  Footwear/SHOEH4GRSUBJGZXE.jpg   \n",
       "1   clothing   Clothing  Clothing/SRTEH2FVVKRBAXHB.jpg   \n",
       "2   footwear   Footwear  Footwear/SHOEH3DZBFR88SCK.jpg   \n",
       "3   clothing   Clothing  Clothing/SRTEH2FVUHAAVH9X.jpg   \n",
       "4   footwear   Footwear  Footwear/SHOEH4KM2W3Z6EH5.jpg   \n",
       "\n",
       "                                               path1  \n",
       "0  ../input/flipkartcomputervisionuploaded/produc...  \n",
       "1  ../input/flipkartcomputervisionuploaded/produc...  \n",
       "2  ../input/flipkartcomputervisionuploaded/produc...  \n",
       "3  ../input/flipkartcomputervisionuploaded/produc...  \n",
       "4  ../input/flipkartcomputervisionuploaded/produc...  "
      ]
     },
     "execution_count": 8,
     "metadata": {},
     "output_type": "execute_result"
    }
   ],
   "source": [
    "df.head()"
   ]
  },
  {
   "cell_type": "markdown",
   "metadata": {},
   "source": [
    "#### class distribution"
   ]
  },
  {
   "cell_type": "code",
   "execution_count": 9,
   "metadata": {
    "execution": {
     "iopub.execute_input": "2022-03-25T12:36:22.993264Z",
     "iopub.status.busy": "2022-03-25T12:36:22.992932Z",
     "iopub.status.idle": "2022-03-25T12:36:23.247434Z",
     "shell.execute_reply": "2022-03-25T12:36:23.245873Z",
     "shell.execute_reply.started": "2022-03-25T12:36:22.993223Z"
    }
   },
   "outputs": [
    {
     "name": "stderr",
     "output_type": "stream",
     "text": [
      "/opt/conda/lib/python3.7/site-packages/seaborn/_decorators.py:43: FutureWarning: Pass the following variable as a keyword arg: x. From version 0.12, the only valid positional argument will be `data`, and passing other arguments without an explicit keyword will result in an error or misinterpretation.\n",
      "  FutureWarning\n"
     ]
    },
    {
     "data": {
      "image/png": "[encoded data removed]",
      "text/plain": [
       "<Figure size 720x360 with 1 Axes>"
      ]
     },
     "metadata": {
      "needs_background": "light"
     },
     "output_type": "display_data"
    }
   ],
   "source": [
    "plt.figure(figsize=(10, 5))\n",
    "\n",
    "sns.countplot(df['category_x'], order=df['category_x'].value_counts().index)\n",
    "\n",
    "plt.title('Class Distribution')\n",
    "\n",
    "plt.xlabel('Class')\n",
    "\n",
    "plt.xticks(rotation=90)\n",
    "\n",
    "plt.show()"
   ]
  },
  {
   "cell_type": "markdown",
   "metadata": {},
   "source": [
    "#### lemmatization"
   ]
  },
  {
   "cell_type": "code",
   "execution_count": 10,
   "metadata": {
    "execution": {
     "iopub.execute_input": "2022-03-25T12:36:23.250815Z",
     "iopub.status.busy": "2022-03-25T12:36:23.250621Z",
     "iopub.status.idle": "2022-03-25T12:36:23.254668Z",
     "shell.execute_reply": "2022-03-25T12:36:23.253759Z",
     "shell.execute_reply.started": "2022-03-25T12:36:23.250791Z"
    }
   },
   "outputs": [],
   "source": [
    "lemmatizer = WordNetLemmatizer()\n",
    "tokenizer = Tokenizer(num_words=max_words)\n",
    "encoder = LabelEncoder()"
   ]
  },
  {
   "cell_type": "code",
   "execution_count": 11,
   "metadata": {
    "execution": {
     "iopub.execute_input": "2022-03-25T12:36:23.256775Z",
     "iopub.status.busy": "2022-03-25T12:36:23.256135Z",
     "iopub.status.idle": "2022-03-25T12:36:29.253000Z",
     "shell.execute_reply": "2022-03-25T12:36:29.252185Z",
     "shell.execute_reply.started": "2022-03-25T12:36:23.256675Z"
    }
   },
   "outputs": [],
   "source": [
    "X,word_index = preprocess(df)"
   ]
  },
  {
   "cell_type": "code",
   "execution_count": 12,
   "metadata": {
    "execution": {
     "iopub.execute_input": "2022-03-25T12:36:29.254730Z",
     "iopub.status.busy": "2022-03-25T12:36:29.254462Z",
     "iopub.status.idle": "2022-03-25T12:36:29.267392Z",
     "shell.execute_reply": "2022-03-25T12:36:29.266404Z",
     "shell.execute_reply.started": "2022-03-25T12:36:29.254695Z"
    }
   },
   "outputs": [
    {
     "name": "stderr",
     "output_type": "stream",
     "text": [
      "/opt/conda/lib/python3.7/site-packages/sklearn/preprocessing/_label.py:115: DataConversionWarning: A column-vector y was passed when a 1d array was expected. Please change the shape of y to (n_samples, ), for example using ravel().\n",
      "  y = column_or_1d(y, warn=True)\n"
     ]
    }
   ],
   "source": [
    "y = df['category_x'].values.reshape(-1, 1)\n",
    "y = encoder.fit_transform(y)\n",
    "y_encoded = to_categorical(y, num_classes=num_classes)"
   ]
  },
  {
   "cell_type": "code",
   "execution_count": 13,
   "metadata": {
    "execution": {
     "iopub.execute_input": "2022-03-25T12:36:29.269636Z",
     "iopub.status.busy": "2022-03-25T12:36:29.269253Z",
     "iopub.status.idle": "2022-03-25T12:36:29.277247Z",
     "shell.execute_reply": "2022-03-25T12:36:29.276306Z",
     "shell.execute_reply.started": "2022-03-25T12:36:29.269597Z"
    }
   },
   "outputs": [
    {
     "data": {
      "text/plain": [
       "((12627, 100), (12627,))"
      ]
     },
     "execution_count": 13,
     "metadata": {},
     "output_type": "execute_result"
    }
   ],
   "source": [
    "X.shape, y.shape"
   ]
  },
  {
   "cell_type": "markdown",
   "metadata": {},
   "source": [
    "#### glove Embeddings"
   ]
  },
  {
   "cell_type": "code",
   "execution_count": 14,
   "metadata": {
    "execution": {
     "iopub.execute_input": "2022-03-25T12:36:29.279656Z",
     "iopub.status.busy": "2022-03-25T12:36:29.279198Z",
     "iopub.status.idle": "2022-03-25T12:36:41.158693Z",
     "shell.execute_reply": "2022-03-25T12:36:41.157915Z",
     "shell.execute_reply.started": "2022-03-25T12:36:29.279616Z"
    }
   },
   "outputs": [
    {
     "name": "stdout",
     "output_type": "stream",
     "text": [
      "Found 400000 word vectors.\n"
     ]
    }
   ],
   "source": [
    "embeddings_index = {}\n",
    "\n",
    "f = open(os.path.join(glove_dir, 'glove.6B.100d.txt'))\n",
    "\n",
    "for line in f:\n",
    "    values = line.split()\n",
    "    word = values[0]\n",
    "    coefs = np.asarray(values[1:], dtype='float32')\n",
    "    embeddings_index[word] = coefs\n",
    "\n",
    "f.close()\n",
    "\n",
    "print('Found %s word vectors.' % len(embeddings_index))"
   ]
  },
  {
   "cell_type": "code",
   "execution_count": 15,
   "metadata": {
    "execution": {
     "iopub.execute_input": "2022-03-25T12:36:41.161645Z",
     "iopub.status.busy": "2022-03-25T12:36:41.161429Z",
     "iopub.status.idle": "2022-03-25T12:36:41.194989Z",
     "shell.execute_reply": "2022-03-25T12:36:41.194291Z",
     "shell.execute_reply.started": "2022-03-25T12:36:41.161620Z"
    }
   },
   "outputs": [],
   "source": [
    "embedding_matrix = np.zeros((max_words, embedding_dim))\n",
    "\n",
    "for word, i in word_index.items():\n",
    "    embedding_vector = embeddings_index.get(word)\n",
    "    \n",
    "    if i < max_words:\n",
    "        if embedding_vector is not None:\n",
    "            embedding_matrix[i] = embedding_vector"
   ]
  },
  {
   "cell_type": "markdown",
   "metadata": {},
   "source": [
    "#### train-test split"
   ]
  },
  {
   "cell_type": "code",
   "execution_count": 16,
   "metadata": {
    "execution": {
     "iopub.execute_input": "2022-03-25T12:36:41.196688Z",
     "iopub.status.busy": "2022-03-25T12:36:41.196405Z",
     "iopub.status.idle": "2022-03-25T12:36:41.370837Z",
     "shell.execute_reply": "2022-03-25T12:36:41.370127Z",
     "shell.execute_reply.started": "2022-03-25T12:36:41.196650Z"
    }
   },
   "outputs": [],
   "source": [
    "X_train, X_test, y_train, y_test = train_test_split(X, y_encoded, test_size=0.2, stratify=y_encoded, shuffle=True, random_state=seed)"
   ]
  },
  {
   "cell_type": "markdown",
   "metadata": {},
   "source": [
    "#### bi-lstm"
   ]
  },
  {
   "cell_type": "code",
   "execution_count": 17,
   "metadata": {
    "execution": {
     "iopub.execute_input": "2022-03-25T12:36:41.372418Z",
     "iopub.status.busy": "2022-03-25T12:36:41.372153Z",
     "iopub.status.idle": "2022-03-25T12:36:44.440473Z",
     "shell.execute_reply": "2022-03-25T12:36:44.439784Z",
     "shell.execute_reply.started": "2022-03-25T12:36:41.372383Z"
    }
   },
   "outputs": [
    {
     "name": "stderr",
     "output_type": "stream",
     "text": [
      "2022-03-25 12:36:41.447028: I tensorflow/stream_executor/cuda/cuda_gpu_executor.cc:937] successful NUMA node read from SysFS had negative value (-1), but there must be at least one NUMA node, so returning NUMA node zero\n",
      "2022-03-25 12:36:41.537106: I tensorflow/stream_executor/cuda/cuda_gpu_executor.cc:937] successful NUMA node read from SysFS had negative value (-1), but there must be at least one NUMA node, so returning NUMA node zero\n",
      "2022-03-25 12:36:41.537885: I tensorflow/stream_executor/cuda/cuda_gpu_executor.cc:937] successful NUMA node read from SysFS had negative value (-1), but there must be at least one NUMA node, so returning NUMA node zero\n",
      "2022-03-25 12:36:41.539020: I tensorflow/core/platform/cpu_feature_guard.cc:142] This TensorFlow binary is optimized with oneAPI Deep Neural Network Library (oneDNN) to use the following CPU instructions in performance-critical operations:  AVX2 AVX512F FMA\n",
      "To enable them in other operations, rebuild TensorFlow with the appropriate compiler flags.\n",
      "2022-03-25 12:36:41.539822: I tensorflow/stream_executor/cuda/cuda_gpu_executor.cc:937] successful NUMA node read from SysFS had negative value (-1), but there must be at least one NUMA node, so returning NUMA node zero\n",
      "2022-03-25 12:36:41.540486: I tensorflow/stream_executor/cuda/cuda_gpu_executor.cc:937] successful NUMA node read from SysFS had negative value (-1), but there must be at least one NUMA node, so returning NUMA node zero\n",
      "2022-03-25 12:36:41.541103: I tensorflow/stream_executor/cuda/cuda_gpu_executor.cc:937] successful NUMA node read from SysFS had negative value (-1), but there must be at least one NUMA node, so returning NUMA node zero\n",
      "2022-03-25 12:36:43.386028: I tensorflow/stream_executor/cuda/cuda_gpu_executor.cc:937] successful NUMA node read from SysFS had negative value (-1), but there must be at least one NUMA node, so returning NUMA node zero\n",
      "2022-03-25 12:36:43.386860: I tensorflow/stream_executor/cuda/cuda_gpu_executor.cc:937] successful NUMA node read from SysFS had negative value (-1), but there must be at least one NUMA node, so returning NUMA node zero\n",
      "2022-03-25 12:36:43.387484: I tensorflow/stream_executor/cuda/cuda_gpu_executor.cc:937] successful NUMA node read from SysFS had negative value (-1), but there must be at least one NUMA node, so returning NUMA node zero\n",
      "2022-03-25 12:36:43.388070: I tensorflow/core/common_runtime/gpu/gpu_device.cc:1510] Created device /job:localhost/replica:0/task:0/device:GPU:0 with 15403 MB memory:  -> device: 0, name: Tesla P100-PCIE-16GB, pci bus id: 0000:00:04.0, compute capability: 6.0\n"
     ]
    }
   ],
   "source": [
    "model = Sequential([\n",
    "        Embedding(max_words, embedding_dim, weights=[embedding_matrix]),\n",
    "        Bidirectional(LSTM(512)),\n",
    "        Dense(256, activation='relu'),\n",
    "        Dropout(0.3),\n",
    "        Dense(num_classes, activation='softmax')])\n",
    "\n",
    "model.compile(optimizer=Adam(learning_rate=learning_rate),\n",
    "              loss='categorical_crossentropy',\n",
    "              metrics=[f1_metric_custom,F1Score(num_classes = num_classes,average='macro')]) "
   ]
  },
  {
   "cell_type": "code",
   "execution_count": 18,
   "metadata": {
    "execution": {
     "iopub.execute_input": "2022-03-25T12:36:44.443783Z",
     "iopub.status.busy": "2022-03-25T12:36:44.443586Z",
     "iopub.status.idle": "2022-03-25T12:36:44.454115Z",
     "shell.execute_reply": "2022-03-25T12:36:44.453396Z",
     "shell.execute_reply.started": "2022-03-25T12:36:44.443759Z"
    }
   },
   "outputs": [
    {
     "name": "stdout",
     "output_type": "stream",
     "text": [
      "Model: \"sequential\"\n",
      "_________________________________________________________________\n",
      "Layer (type)                 Output Shape              Param #   \n",
      "=================================================================\n",
      "embedding (Embedding)        (None, None, 100)         1000000   \n",
      "_________________________________________________________________\n",
      "bidirectional (Bidirectional (None, 1024)              2510848   \n",
      "_________________________________________________________________\n",
      "dense (Dense)                (None, 256)               262400    \n",
      "_________________________________________________________________\n",
      "dropout (Dropout)            (None, 256)               0         \n",
      "_________________________________________________________________\n",
      "dense_1 (Dense)              (None, 10)                2570      \n",
      "=================================================================\n",
      "Total params: 3,775,818\n",
      "Trainable params: 3,775,818\n",
      "Non-trainable params: 0\n",
      "_________________________________________________________________\n"
     ]
    }
   ],
   "source": [
    "model.summary()"
   ]
  },
  {
   "cell_type": "code",
   "execution_count": 19,
   "metadata": {
    "execution": {
     "iopub.execute_input": "2022-03-25T12:36:44.457075Z",
     "iopub.status.busy": "2022-03-25T12:36:44.456702Z",
     "iopub.status.idle": "2022-03-25T12:36:44.462282Z",
     "shell.execute_reply": "2022-03-25T12:36:44.461377Z",
     "shell.execute_reply.started": "2022-03-25T12:36:44.457038Z"
    }
   },
   "outputs": [],
   "source": [
    "checkpoint = ModelCheckpoint('best_model_lstm.hdf5', \n",
    "                              monitor='val_loss', \n",
    "                              verbose=1, \n",
    "                              save_best_only=True)\n",
    "\n",
    "stopping = EarlyStopping(monitor='val_loss', \n",
    "                         patience=3, \n",
    "                         verbose=1, \n",
    "                         restore_best_weights=True)\n",
    "\n",
    "reduce_lr = ReduceLROnPlateau(monitor='val_loss', \n",
    "                              factor=0.3,\n",
    "                              verbose=1,\n",
    "                              patience=2, \n",
    "                              min_lr=1e-6)"
   ]
  },
  {
   "cell_type": "code",
   "execution_count": 20,
   "metadata": {
    "execution": {
     "iopub.execute_input": "2022-03-25T12:36:44.464169Z",
     "iopub.status.busy": "2022-03-25T12:36:44.463912Z",
     "iopub.status.idle": "2022-03-25T12:38:43.223311Z",
     "shell.execute_reply": "2022-03-25T12:38:43.222539Z",
     "shell.execute_reply.started": "2022-03-25T12:36:44.464135Z"
    }
   },
   "outputs": [
    {
     "name": "stdout",
     "output_type": "stream",
     "text": [
      "Epoch 1/50\n"
     ]
    },
    {
     "name": "stderr",
     "output_type": "stream",
     "text": [
      "2022-03-25 12:36:44.520406: I tensorflow/compiler/mlir/mlir_graph_optimization_pass.cc:185] None of the MLIR Optimization Passes are enabled (registered 2)\n",
      "2022-03-25 12:36:48.160854: I tensorflow/stream_executor/cuda/cuda_dnn.cc:369] Loaded cuDNN version 8005\n"
     ]
    },
    {
     "name": "stdout",
     "output_type": "stream",
     "text": [
      "127/127 [==============================] - 11s 49ms/step - loss: 1.2892 - f1_metric_custom: 0.5035 - f1_score: 0.2916 - val_loss: 0.7140 - val_f1_metric_custom: 0.7337 - val_f1_score: 0.4906\n",
      "\n",
      "Epoch 00001: val_loss improved from inf to 0.71402, saving model to best_model_lstm.hdf5\n",
      "Epoch 2/50\n",
      "127/127 [==============================] - 6s 45ms/step - loss: 0.5426 - f1_metric_custom: 0.8109 - f1_score: 0.6104 - val_loss: 0.3753 - val_f1_metric_custom: 0.8843 - val_f1_score: 0.7277\n",
      "\n",
      "Epoch 00002: val_loss improved from 0.71402 to 0.37532, saving model to best_model_lstm.hdf5\n",
      "Epoch 3/50\n",
      "127/127 [==============================] - 6s 43ms/step - loss: 0.2783 - f1_metric_custom: 0.9183 - f1_score: 0.8395 - val_loss: 0.2332 - val_f1_metric_custom: 0.9276 - val_f1_score: 0.8552\n",
      "\n",
      "Epoch 00003: val_loss improved from 0.37532 to 0.23315, saving model to best_model_lstm.hdf5\n",
      "Epoch 4/50\n",
      "127/127 [==============================] - 6s 44ms/step - loss: 0.1859 - f1_metric_custom: 0.9471 - f1_score: 0.8996 - val_loss: 0.2365 - val_f1_metric_custom: 0.9341 - val_f1_score: 0.8715\n",
      "\n",
      "Epoch 00004: val_loss did not improve from 0.23315\n",
      "Epoch 5/50\n",
      "127/127 [==============================] - 6s 43ms/step - loss: 0.1662 - f1_metric_custom: 0.9522 - f1_score: 0.9132 - val_loss: 0.1718 - val_f1_metric_custom: 0.9529 - val_f1_score: 0.9174\n",
      "\n",
      "Epoch 00005: val_loss improved from 0.23315 to 0.17182, saving model to best_model_lstm.hdf5\n",
      "Epoch 6/50\n",
      "127/127 [==============================] - 6s 44ms/step - loss: 0.1340 - f1_metric_custom: 0.9631 - f1_score: 0.9345 - val_loss: 0.1432 - val_f1_metric_custom: 0.9592 - val_f1_score: 0.9343\n",
      "\n",
      "Epoch 00006: val_loss improved from 0.17182 to 0.14324, saving model to best_model_lstm.hdf5\n",
      "Epoch 7/50\n",
      "127/127 [==============================] - 6s 43ms/step - loss: 0.1489 - f1_metric_custom: 0.9584 - f1_score: 0.9295 - val_loss: 0.1615 - val_f1_metric_custom: 0.9612 - val_f1_score: 0.9313\n",
      "\n",
      "Epoch 00007: val_loss did not improve from 0.14324\n",
      "Epoch 8/50\n",
      "127/127 [==============================] - 6s 45ms/step - loss: 0.0949 - f1_metric_custom: 0.9739 - f1_score: 0.9496 - val_loss: 0.1396 - val_f1_metric_custom: 0.9657 - val_f1_score: 0.9433\n",
      "\n",
      "Epoch 00008: val_loss improved from 0.14324 to 0.13958, saving model to best_model_lstm.hdf5\n",
      "Epoch 9/50\n",
      "127/127 [==============================] - 5s 43ms/step - loss: 0.0723 - f1_metric_custom: 0.9805 - f1_score: 0.9635 - val_loss: 0.1284 - val_f1_metric_custom: 0.9679 - val_f1_score: 0.9427\n",
      "\n",
      "Epoch 00009: val_loss improved from 0.13958 to 0.12843, saving model to best_model_lstm.hdf5\n",
      "Epoch 10/50\n",
      "127/127 [==============================] - 6s 44ms/step - loss: 0.0608 - f1_metric_custom: 0.9826 - f1_score: 0.9701 - val_loss: 0.1305 - val_f1_metric_custom: 0.9694 - val_f1_score: 0.9524\n",
      "\n",
      "Epoch 00010: val_loss did not improve from 0.12843\n",
      "Epoch 11/50\n",
      "127/127 [==============================] - 5s 43ms/step - loss: 0.0607 - f1_metric_custom: 0.9843 - f1_score: 0.9727 - val_loss: 0.1228 - val_f1_metric_custom: 0.9665 - val_f1_score: 0.9454\n",
      "\n",
      "Epoch 00011: val_loss improved from 0.12843 to 0.12275, saving model to best_model_lstm.hdf5\n",
      "Epoch 12/50\n",
      "127/127 [==============================] - 6s 44ms/step - loss: 0.0479 - f1_metric_custom: 0.9882 - f1_score: 0.9779 - val_loss: 0.1548 - val_f1_metric_custom: 0.9635 - val_f1_score: 0.9353\n",
      "\n",
      "Epoch 00012: val_loss did not improve from 0.12275\n",
      "Epoch 13/50\n",
      "127/127 [==============================] - 6s 43ms/step - loss: 0.0538 - f1_metric_custom: 0.9853 - f1_score: 0.9721 - val_loss: 0.1205 - val_f1_metric_custom: 0.9738 - val_f1_score: 0.9532\n",
      "\n",
      "Epoch 00013: val_loss improved from 0.12275 to 0.12055, saving model to best_model_lstm.hdf5\n",
      "Epoch 14/50\n",
      "127/127 [==============================] - 6s 45ms/step - loss: 0.0475 - f1_metric_custom: 0.9869 - f1_score: 0.9767 - val_loss: 0.1185 - val_f1_metric_custom: 0.9708 - val_f1_score: 0.9476\n",
      "\n",
      "Epoch 00014: val_loss improved from 0.12055 to 0.11855, saving model to best_model_lstm.hdf5\n",
      "Epoch 15/50\n",
      "127/127 [==============================] - 6s 43ms/step - loss: 0.0382 - f1_metric_custom: 0.9898 - f1_score: 0.9797 - val_loss: 0.1243 - val_f1_metric_custom: 0.9716 - val_f1_score: 0.9545\n",
      "\n",
      "Epoch 00015: val_loss did not improve from 0.11855\n",
      "Epoch 16/50\n",
      "127/127 [==============================] - 6s 44ms/step - loss: 0.0312 - f1_metric_custom: 0.9918 - f1_score: 0.9850 - val_loss: 0.1028 - val_f1_metric_custom: 0.9750 - val_f1_score: 0.9584\n",
      "\n",
      "Epoch 00016: val_loss improved from 0.11855 to 0.10281, saving model to best_model_lstm.hdf5\n",
      "Epoch 17/50\n",
      "127/127 [==============================] - 5s 43ms/step - loss: 0.0250 - f1_metric_custom: 0.9932 - f1_score: 0.9866 - val_loss: 0.1000 - val_f1_metric_custom: 0.9770 - val_f1_score: 0.9590\n",
      "\n",
      "Epoch 00017: val_loss improved from 0.10281 to 0.09996, saving model to best_model_lstm.hdf5\n",
      "Epoch 18/50\n",
      "127/127 [==============================] - 6s 44ms/step - loss: 0.0404 - f1_metric_custom: 0.9885 - f1_score: 0.9789 - val_loss: 0.1082 - val_f1_metric_custom: 0.9740 - val_f1_score: 0.9537\n",
      "\n",
      "Epoch 00018: val_loss did not improve from 0.09996\n",
      "Epoch 19/50\n",
      "127/127 [==============================] - 5s 43ms/step - loss: 0.0223 - f1_metric_custom: 0.9937 - f1_score: 0.9878 - val_loss: 0.1015 - val_f1_metric_custom: 0.9780 - val_f1_score: 0.9607\n",
      "\n",
      "Epoch 00019: val_loss did not improve from 0.09996\n",
      "\n",
      "Epoch 00019: ReduceLROnPlateau reducing learning rate to 2.9999999242136255e-05.\n",
      "Epoch 20/50\n",
      "127/127 [==============================] - 6s 45ms/step - loss: 0.0156 - f1_metric_custom: 0.9965 - f1_score: 0.9946 - val_loss: 0.1224 - val_f1_metric_custom: 0.9746 - val_f1_score: 0.9582\n",
      "\n",
      "Epoch 00020: val_loss did not improve from 0.09996\n",
      "Restoring model weights from the end of the best epoch.\n",
      "Epoch 00020: early stopping\n"
     ]
    }
   ],
   "source": [
    "model_hist = model.fit(X_train, y_train, epochs=epochs, batch_size=batch_size, validation_split=val_split, callbacks=[checkpoint, stopping, reduce_lr], workers=8)"
   ]
  },
  {
   "cell_type": "code",
   "execution_count": 21,
   "metadata": {
    "execution": {
     "iopub.execute_input": "2022-03-25T12:38:43.226426Z",
     "iopub.status.busy": "2022-03-25T12:38:43.225608Z",
     "iopub.status.idle": "2022-03-25T12:39:10.259644Z",
     "shell.execute_reply": "2022-03-25T12:39:10.258947Z",
     "shell.execute_reply.started": "2022-03-25T12:38:43.226384Z"
    }
   },
   "outputs": [
    {
     "name": "stdout",
     "output_type": "stream",
     "text": [
      "79/79 [==============================] - 1s 12ms/step - loss: 0.0892 - f1_metric_custom: 0.9814 - f1_score: 0.9616\n"
     ]
    },
    {
     "data": {
      "text/plain": [
       "[0.08923918753862381, 0.9813892841339111, 0.9616159200668335]"
      ]
     },
     "execution_count": 21,
     "metadata": {},
     "output_type": "execute_result"
    }
   ],
   "source": [
    "model.evaluate(X_test, y_test)"
   ]
  },
  {
   "cell_type": "code",
   "execution_count": 22,
   "metadata": {
    "execution": {
     "iopub.execute_input": "2022-03-25T12:39:10.261319Z",
     "iopub.status.busy": "2022-03-25T12:39:10.261074Z",
     "iopub.status.idle": "2022-03-25T12:39:10.356031Z",
     "shell.execute_reply": "2022-03-25T12:39:10.355290Z",
     "shell.execute_reply.started": "2022-03-25T12:39:10.261286Z"
    }
   },
   "outputs": [],
   "source": [
    "model.save('lstm_saved_model.hdf5')"
   ]
  },
  {
   "cell_type": "markdown",
   "metadata": {},
   "source": [
    "#### testing"
   ]
  },
  {
   "cell_type": "code",
   "execution_count": 23,
   "metadata": {
    "execution": {
     "iopub.execute_input": "2022-03-25T12:39:10.357324Z",
     "iopub.status.busy": "2022-03-25T12:39:10.357085Z",
     "iopub.status.idle": "2022-03-25T12:39:10.364635Z",
     "shell.execute_reply": "2022-03-25T12:39:10.363786Z",
     "shell.execute_reply.started": "2022-03-25T12:39:10.357292Z"
    }
   },
   "outputs": [
    {
     "data": {
      "text/plain": [
       "array(['footwear', 'clothing', 'beauty', 'home', 'automotive', 'mobiles',\n",
       "       'watches', 'jewellery', 'kitchen', 'computers'], dtype=object)"
      ]
     },
     "execution_count": 23,
     "metadata": {},
     "output_type": "execute_result"
    }
   ],
   "source": [
    "df['category_x'].unique()"
   ]
  },
  {
   "cell_type": "code",
   "execution_count": 24,
   "metadata": {
    "execution": {
     "iopub.execute_input": "2022-03-25T12:39:10.366120Z",
     "iopub.status.busy": "2022-03-25T12:39:10.365728Z",
     "iopub.status.idle": "2022-03-25T12:39:10.372975Z",
     "shell.execute_reply": "2022-03-25T12:39:10.372163Z",
     "shell.execute_reply.started": "2022-03-25T12:39:10.366084Z"
    }
   },
   "outputs": [],
   "source": [
    "classes = ['footwear', 'clothing', 'beauty', 'home', 'automotive', 'mobiles',\n",
    "       'watches', 'jewellery', 'kitchen', 'computers']"
   ]
  },
  {
   "cell_type": "code",
   "execution_count": 25,
   "metadata": {
    "execution": {
     "iopub.execute_input": "2022-03-25T12:39:10.375114Z",
     "iopub.status.busy": "2022-03-25T12:39:10.374320Z",
     "iopub.status.idle": "2022-03-25T12:39:10.384145Z",
     "shell.execute_reply": "2022-03-25T12:39:10.383409Z",
     "shell.execute_reply.started": "2022-03-25T12:39:10.375078Z"
    }
   },
   "outputs": [
    {
     "data": {
      "text/plain": [
       "array(['automotive', 'beauty', 'clothing', 'computers', 'footwear',\n",
       "       'home', 'jewellery', 'kitchen', 'mobiles', 'watches'], dtype=object)"
      ]
     },
     "execution_count": 25,
     "metadata": {},
     "output_type": "execute_result"
    }
   ],
   "source": [
    "encoder.classes_"
   ]
  },
  {
   "cell_type": "code",
   "execution_count": 26,
   "metadata": {
    "execution": {
     "iopub.execute_input": "2022-03-25T12:39:10.386359Z",
     "iopub.status.busy": "2022-03-25T12:39:10.385432Z",
     "iopub.status.idle": "2022-03-25T12:39:10.993875Z",
     "shell.execute_reply": "2022-03-25T12:39:10.992102Z",
     "shell.execute_reply.started": "2022-03-25T12:39:10.386324Z"
    }
   },
   "outputs": [
    {
     "name": "stdout",
     "output_type": "stream",
     "text": [
      "['jewellery']\n"
     ]
    }
   ],
   "source": [
    "# sample = df['description'][1994]\n",
    "sample = 'Shining Diva Fashion Latest Stylish Rose Gold Tulip Design Earrings Necklace Jewellery Set For Women (10103s)'\n",
    "print(test_text(sample))"
   ]
  },
  {
   "cell_type": "code",
   "execution_count": 27,
   "metadata": {
    "execution": {
     "iopub.execute_input": "2022-03-25T12:39:10.995590Z",
     "iopub.status.busy": "2022-03-25T12:39:10.995305Z",
     "iopub.status.idle": "2022-03-25T12:39:14.735971Z",
     "shell.execute_reply": "2022-03-25T12:39:14.735191Z",
     "shell.execute_reply.started": "2022-03-25T12:39:10.995553Z"
    }
   },
   "outputs": [
    {
     "name": "stdout",
     "output_type": "stream",
     "text": [
      "Category:  footwear\n",
      "['watches']\n",
      "['footwear']\n",
      "['footwear']\n",
      "['beauty']\n",
      "['beauty']\n",
      "Category:  clothing\n",
      "['clothing']\n",
      "['clothing']\n",
      "['clothing']\n",
      "['clothing']\n",
      "['clothing']\n",
      "Category:  beauty\n",
      "['beauty']\n",
      "['beauty']\n",
      "['computers']\n",
      "['beauty']\n",
      "['mobiles']\n",
      "Category:  home\n",
      "['home']\n",
      "['watches']\n",
      "['home']\n",
      "['home']\n",
      "['home']\n",
      "Category:  automotive\n",
      "['beauty']\n",
      "['computers']\n",
      "['watches']\n",
      "['automotive']\n",
      "['watches']\n",
      "Category:  mobiles\n",
      "['jewellery']\n",
      "['watches']\n",
      "['automotive']\n",
      "['mobiles']\n",
      "['footwear']\n",
      "Category:  watches\n",
      "['beauty']\n",
      "['clothing']\n",
      "['clothing']\n",
      "['watches']\n",
      "['watches']\n",
      "Category:  jewellery\n",
      "['jewellery']\n",
      "['jewellery']\n",
      "['jewellery']\n",
      "['footwear']\n",
      "['beauty']\n",
      "Category:  kitchen\n",
      "['clothing']\n",
      "['watches']\n",
      "['clothing']\n",
      "['watches']\n",
      "['footwear']\n",
      "Category:  computers\n",
      "['clothing']\n",
      "['computers']\n",
      "['computers']\n",
      "['clothing']\n",
      "['mobiles']\n"
     ]
    }
   ],
   "source": [
    "for cat in classes:\n",
    "    print('Category: ',cat)\n",
    "    for i in df[df['category_x'] == cat].index[:5]:\n",
    "        sample = df['description'][i]\n",
    "        print(test_text(sample))\n"
   ]
  }
 ],
 "metadata": {
  "kernelspec": {
   "display_name": "Python 3",
   "language": "python",
   "name": "python3"
  },
  "language_info": {
   "codemirror_mode": {
    "name": "ipython",
    "version": 3
   },
   "file_extension": ".py",
   "mimetype": "text/x-python",
   "name": "python",
   "nbconvert_exporter": "python",
   "pygments_lexer": "ipython3",
   "version": "3.7.12"
  }
 },
 "nbformat": 4,
 "nbformat_minor": 4
}
